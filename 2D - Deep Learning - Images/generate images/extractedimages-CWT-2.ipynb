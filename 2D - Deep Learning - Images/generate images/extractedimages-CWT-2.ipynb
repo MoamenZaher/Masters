{
 "cells": [
  {
   "cell_type": "markdown",
   "id": "b585cae6",
   "metadata": {},
   "source": [
    "# CWT"
   ]
  },
  {
   "cell_type": "code",
   "execution_count": 14,
   "id": "c1cdf3b8",
   "metadata": {},
   "outputs": [],
   "source": [
    "import pandas as pd\n",
    "import os\n",
    "from tqdm import tqdm\n",
    "import numpy as np\n",
    "import matplotlib.pyplot as plt\n",
    "\n",
    "import pywt\n",
    "\n",
    "\n",
    "def drawImage(joint_data, label, row_id, destination_path):\n",
    "    # Define the wavelet and scales\n",
    "    center_frequency = 3  # Adjust the center frequency as needed\n",
    "    bandwidth_frequency = 4.5  # Adjust the bandwidth as needed\n",
    "    wavelet = f'cmor{bandwidth_frequency}-{center_frequency}'\n",
    "    scales = np.arange(1, 128)\n",
    "\n",
    "    # Perform the Continuous Wavelet Transform\n",
    "    coefficients, frequencies = pywt.cwt(joint_data, scales, wavelet, sampling_period=1)\n",
    "\n",
    "    # Plot the results without labels and color bar\n",
    "    plt.imshow(np.abs(coefficients).mean(axis=1), aspect='auto', extent=[0, len(joint_data), 1, 128], cmap='jet', interpolation='bilinear')\n",
    "\n",
    "    # Remove axis labels and ticks\n",
    "    plt.axis('off')\n",
    "\n",
    "    # Save the plot with the specified name\n",
    "    output_name = f\"{label}_row{row_id}.png\"\n",
    "    output_path = os.path.join(destination_path, output_name)\n",
    "    plt.savefig(output_path)\n",
    "\n",
    "    # Close the plot\n",
    "    plt.close()\n",
    "\n",
    "def generateCWTImages(csv_file_path, destination_path):\n",
    "    # Load the CSV file\n",
    "    df = pd.read_csv(csv_file_path)\n",
    "\n",
    "    # Create the destination folder if it doesn't exist\n",
    "    if not os.path.exists(destination_path):\n",
    "        os.makedirs(destination_path)\n",
    "\n",
    "    # Use tqdm for a progress bar\n",
    "    for index, row in tqdm(df.iterrows(), desc='Generating CWT Images', total=len(df)):\n",
    "        # Extract YXZ coordinates for the current row\n",
    "        joint_data = row.values[:-1].reshape(-1, 3).T\n",
    "        num_coordinates = len(joint_data)\n",
    "\n",
    "        # Ensure that the number of elements is divisible by 3\n",
    "        if num_coordinates % 3 == 0:\n",
    "            # Reshape the array into a matrix with 3 columns\n",
    "            joint_data = joint_data.reshape(-1, 3).T\n",
    "            # Extract label from the last column\n",
    "            label = int(row.iloc[-1])\n",
    "\n",
    "            # Generate CWT image for the current row with specified label and row ID\n",
    "            drawImage(joint_data, label, index, destination_path)\n",
    "        else:\n",
    "            # Handle the case where the number of elements is not divisible by 3\n",
    "            # You can choose a strategy that fits your data, like padding or discarding the extra elements\n",
    "            print(f\"Warning: Number of coordinates ({num_coordinates}) is not divisible by 3.\")\n",
    "            print(\"Adjust the reshaping strategy accordingly.\")\n",
    "        "
   ]
  },
  {
   "cell_type": "code",
   "execution_count": 15,
   "id": "c9b375ae",
   "metadata": {},
   "outputs": [
    {
     "name": "stderr",
     "output_type": "stream",
     "text": [
      "Generating CWT Images: 100%|██████████| 2000/2000 [02:23<00:00, 13.92it/s]\n"
     ]
    }
   ],
   "source": [
    "# Example usage\n",
    "csv_file_path = 'extractedData.csv'\n",
    "destination_path = 'CWT2/Extracted_IMGs/'\n",
    "generateCWTImages(csv_file_path, destination_path)\n"
   ]
  },
  {
   "cell_type": "markdown",
   "id": "455ed1d9",
   "metadata": {},
   "source": [
    "# MFCC"
   ]
  },
  {
   "cell_type": "code",
   "execution_count": 22,
   "id": "8dddde60",
   "metadata": {},
   "outputs": [
    {
     "name": "stdout",
     "output_type": "stream",
     "text": [
      "Collecting librosa\n",
      "  Downloading librosa-0.10.1-py3-none-any.whl (253 kB)\n",
      "\u001b[2K     \u001b[90m━━━━━━━━━━━━━━━━━━━━━━━━━━━━━━━━━━━━━━━\u001b[0m \u001b[32m253.7/253.7 kB\u001b[0m \u001b[31m1.5 MB/s\u001b[0m eta \u001b[36m0:00:00\u001b[0ma \u001b[36m0:00:01\u001b[0m\n",
      "\u001b[?25hRequirement already satisfied: scikit-learn>=0.20.0 in /Users/moamenibrahem/opt/anaconda3/lib/python3.8/site-packages (from librosa) (1.1.3)\n",
      "Collecting pooch>=1.0\n",
      "  Downloading pooch-1.8.0-py3-none-any.whl (62 kB)\n",
      "\u001b[2K     \u001b[90m━━━━━━━━━━━━━━━━━━━━━━━━━━━━━━━━━━━━━━━━\u001b[0m \u001b[32m62.7/62.7 kB\u001b[0m \u001b[31m3.1 MB/s\u001b[0m eta \u001b[36m0:00:00\u001b[0m\n",
      "\u001b[?25hRequirement already satisfied: numba>=0.51.0 in /Users/moamenibrahem/opt/anaconda3/lib/python3.8/site-packages (from librosa) (0.55.2)\n",
      "Requirement already satisfied: scipy>=1.2.0 in /Users/moamenibrahem/opt/anaconda3/lib/python3.8/site-packages (from librosa) (1.6.2)\n",
      "Requirement already satisfied: typing-extensions>=4.1.1 in /Users/moamenibrahem/opt/anaconda3/lib/python3.8/site-packages (from librosa) (4.4.0)\n",
      "Collecting lazy-loader>=0.1\n",
      "  Downloading lazy_loader-0.3-py3-none-any.whl (9.1 kB)\n",
      "Requirement already satisfied: msgpack>=1.0 in /Users/moamenibrahem/opt/anaconda3/lib/python3.8/site-packages (from librosa) (1.0.2)\n",
      "Requirement already satisfied: joblib>=0.14 in /Users/moamenibrahem/opt/anaconda3/lib/python3.8/site-packages (from librosa) (1.2.0)\n",
      "Collecting numpy!=1.22.0,!=1.22.1,!=1.22.2,>=1.20.3\n",
      "  Downloading numpy-1.24.4-cp38-cp38-macosx_10_9_x86_64.whl (19.8 MB)\n",
      "\u001b[2K     \u001b[90m━━━━━━━━━━━━━━━━━━━━━━━━━━━━━━━━━━━━━━━━\u001b[0m \u001b[32m19.8/19.8 MB\u001b[0m \u001b[31m3.3 MB/s\u001b[0m eta \u001b[36m0:00:00\u001b[0m00:01\u001b[0m00:01\u001b[0m\n",
      "\u001b[?25hCollecting soxr>=0.3.2\n",
      "  Downloading soxr-0.3.7-cp38-cp38-macosx_10_9_x86_64.whl (413 kB)\n",
      "\u001b[2K     \u001b[90m━━━━━━━━━━━━━━━━━━━━━━━━━━━━━━━━━━━━━━━\u001b[0m \u001b[32m413.1/413.1 kB\u001b[0m \u001b[31m3.6 MB/s\u001b[0m eta \u001b[36m0:00:00\u001b[0m00:01\u001b[0m00:01\u001b[0m\n",
      "\u001b[?25hCollecting audioread>=2.1.9\n",
      "  Downloading audioread-3.0.1-py3-none-any.whl (23 kB)\n",
      "Collecting soundfile>=0.12.1\n",
      "  Downloading soundfile-0.12.1-py2.py3-none-macosx_10_9_x86_64.whl (1.2 MB)\n",
      "\u001b[2K     \u001b[90m━━━━━━━━━━━━━━━━━━━━━━━━━━━━━━━━━━━━━━━━\u001b[0m \u001b[32m1.2/1.2 MB\u001b[0m \u001b[31m3.0 MB/s\u001b[0m eta \u001b[36m0:00:00\u001b[0m00:01\u001b[0m00:01\u001b[0m\n",
      "\u001b[?25hRequirement already satisfied: decorator>=4.3.0 in /Users/moamenibrahem/opt/anaconda3/lib/python3.8/site-packages (from librosa) (5.0.6)\n",
      "Requirement already satisfied: llvmlite<0.39,>=0.38.0rc1 in /Users/moamenibrahem/opt/anaconda3/lib/python3.8/site-packages (from numba>=0.51.0->librosa) (0.38.1)\n",
      "Requirement already satisfied: setuptools in /Users/moamenibrahem/opt/anaconda3/lib/python3.8/site-packages (from numba>=0.51.0->librosa) (52.0.0.post20210125)\n",
      "Collecting numpy!=1.22.0,!=1.22.1,!=1.22.2,>=1.20.3\n",
      "  Using cached numpy-1.22.4-cp38-cp38-macosx_10_15_x86_64.whl (17.6 MB)\n",
      "Requirement already satisfied: requests>=2.19.0 in /Users/moamenibrahem/opt/anaconda3/lib/python3.8/site-packages (from pooch>=1.0->librosa) (2.28.1)\n",
      "Requirement already satisfied: packaging>=20.0 in /Users/moamenibrahem/opt/anaconda3/lib/python3.8/site-packages (from pooch>=1.0->librosa) (21.3)\n",
      "Collecting platformdirs>=2.5.0\n",
      "  Downloading platformdirs-4.0.0-py3-none-any.whl (17 kB)\n",
      "Requirement already satisfied: threadpoolctl>=2.0.0 in /Users/moamenibrahem/opt/anaconda3/lib/python3.8/site-packages (from scikit-learn>=0.20.0->librosa) (2.1.0)\n",
      "Requirement already satisfied: cffi>=1.0 in /Users/moamenibrahem/opt/anaconda3/lib/python3.8/site-packages (from soundfile>=0.12.1->librosa) (1.14.5)\n",
      "Requirement already satisfied: pycparser in /Users/moamenibrahem/opt/anaconda3/lib/python3.8/site-packages (from cffi>=1.0->soundfile>=0.12.1->librosa) (2.20)\n",
      "Requirement already satisfied: pyparsing!=3.0.5,>=2.0.2 in /Users/moamenibrahem/opt/anaconda3/lib/python3.8/site-packages (from packaging>=20.0->pooch>=1.0->librosa) (2.4.7)\n",
      "Requirement already satisfied: idna<4,>=2.5 in /Users/moamenibrahem/opt/anaconda3/lib/python3.8/site-packages (from requests>=2.19.0->pooch>=1.0->librosa) (2.10)\n",
      "Requirement already satisfied: charset-normalizer<3,>=2 in /Users/moamenibrahem/opt/anaconda3/lib/python3.8/site-packages (from requests>=2.19.0->pooch>=1.0->librosa) (2.1.1)\n",
      "Requirement already satisfied: certifi>=2017.4.17 in /Users/moamenibrahem/opt/anaconda3/lib/python3.8/site-packages (from requests>=2.19.0->pooch>=1.0->librosa) (2021.10.8)\n",
      "Requirement already satisfied: urllib3<1.27,>=1.21.1 in /Users/moamenibrahem/opt/anaconda3/lib/python3.8/site-packages (from requests>=2.19.0->pooch>=1.0->librosa) (1.26.4)\n",
      "Installing collected packages: platformdirs, numpy, lazy-loader, audioread, soxr, soundfile, pooch, librosa\n",
      "  Attempting uninstall: numpy\n",
      "    Found existing installation: numpy 1.22.0\n",
      "    Uninstalling numpy-1.22.0:\n",
      "      Successfully uninstalled numpy-1.22.0\n",
      "Successfully installed audioread-3.0.1 lazy-loader-0.3 librosa-0.10.1 numpy-1.22.4 platformdirs-4.0.0 pooch-1.8.0 soundfile-0.12.1 soxr-0.3.7\n",
      "\n",
      "\u001b[1m[\u001b[0m\u001b[34;49mnotice\u001b[0m\u001b[1;39;49m]\u001b[0m\u001b[39;49m A new release of pip is available: \u001b[0m\u001b[31;49m23.0\u001b[0m\u001b[39;49m -> \u001b[0m\u001b[32;49m23.3.1\u001b[0m\n",
      "\u001b[1m[\u001b[0m\u001b[34;49mnotice\u001b[0m\u001b[1;39;49m]\u001b[0m\u001b[39;49m To update, run: \u001b[0m\u001b[32;49m/Users/moamenibrahem/opt/anaconda3/bin/python -m pip install --upgrade pip\u001b[0m\n",
      "Note: you may need to restart the kernel to use updated packages.\n"
     ]
    }
   ],
   "source": [
    "pip install librosa"
   ]
  },
  {
   "cell_type": "code",
   "execution_count": 4,
   "id": "b6ff1021",
   "metadata": {},
   "outputs": [],
   "source": [
    "import pandas as pd\n",
    "import os\n",
    "from tqdm import tqdm\n",
    "import numpy as np\n",
    "import matplotlib.pyplot as plt\n",
    "import librosa\n",
    "import librosa.display\n",
    "\n",
    "# import pywt\n",
    "\n",
    "\n",
    "def drawImageMFCC(joint_data, label, row_id, destination_path):\n",
    "    # Compute the MFCCs\n",
    "    mfccs = librosa.feature.mfcc(y=joint_data, sr=len(joint_data), n_mfcc=13)\n",
    "\n",
    "    # Plot the MFCCs without labels and color bar\n",
    "    plt.figure(figsize=(10, 4))\n",
    "    plt.imshow(mfccs, cmap='viridis', aspect='auto', origin='lower')\n",
    "\n",
    "    # Remove axis labels and ticks\n",
    "    plt.axis('off')\n",
    "\n",
    "    # Save the plot with the specified name\n",
    "    output_name = f\"{label}_row{row_id}_mfcc.png\"\n",
    "    output_path = os.path.join(destination_path, output_name)\n",
    "    plt.savefig(output_path)\n",
    "\n",
    "    # Close the plot\n",
    "    plt.close()\n",
    "    \n",
    "def generateMFCCImages(csv_file_path, destination_path):\n",
    "    # Load the CSV file\n",
    "    df = pd.read_csv(csv_file_path)\n",
    "\n",
    "    # Create the destination folder if it doesn't exist\n",
    "    if not os.path.exists(destination_path):\n",
    "        os.makedirs(destination_path)\n",
    "\n",
    "    # Use tqdm for a progress bar\n",
    "    for index, row in tqdm(df.iterrows(), desc='Generating MFCC Images', total=len(df)):\n",
    "        # Extract YXZ coordinates for the current row\n",
    "        joint_data = row.values[:-1].reshape(-1, 3).T\n",
    "        num_coordinates = len(joint_data)\n",
    "\n",
    "        # Ensure that the number of elements is divisible by 3\n",
    "        if num_coordinates % 3 == 0:\n",
    "            # Reshape the array into a matrix with 3 columns\n",
    "            joint_data = joint_data.reshape(-1, 3).T\n",
    "            # Extract label from the last column\n",
    "            label = int(row.iloc[-1])\n",
    "\n",
    "            # Generate CWT image for the current row with specified label and row ID\n",
    "            drawImageMFCC(joint_data, label, index, destination_path)\n",
    "        else:\n",
    "            # Handle the case where the number of elements is not divisible by 3\n",
    "            # You can choose a strategy that fits your data, like padding or discarding the extra elements\n",
    "            print(f\"Warning: Number of coordinates ({num_coordinates}) is not divisible by 3.\")\n",
    "            print(\"Adjust the reshaping strategy accordingly.\")\n",
    "        "
   ]
  },
  {
   "cell_type": "code",
   "execution_count": 5,
   "id": "545b89ae",
   "metadata": {},
   "outputs": [
    {
     "name": "stderr",
     "output_type": "stream",
     "text": [
      "Generating MFCC Images:   0%|          | 0/2000 [00:00<?, ?it/s]/Users/moamenibrahem/opt/anaconda3/lib/python3.8/site-packages/librosa/core/spectrum.py:257: UserWarning: n_fft=2048 is too large for input signal of length=110\n",
      "  warnings.warn(\n",
      "Generating MFCC Images: 100%|██████████| 2000/2000 [01:22<00:00, 24.25it/s]\n"
     ]
    }
   ],
   "source": [
    "# Example usage\n",
    "csv_file_path = 'extractedData.csv'\n",
    "destination_path = 'MFCC/Extracted_IMGs/'\n",
    "generateMFCCImages(csv_file_path, destination_path)\n"
   ]
  },
  {
   "cell_type": "markdown",
   "id": "4e855b42",
   "metadata": {},
   "source": [
    "# GAF"
   ]
  },
  {
   "cell_type": "code",
   "execution_count": null,
   "id": "28a1788c",
   "metadata": {},
   "outputs": [],
   "source": []
  },
  {
   "cell_type": "code",
   "execution_count": 3,
   "id": "35e52c87",
   "metadata": {},
   "outputs": [],
   "source": [
    "import pandas as pd\n",
    "import os\n",
    "from tqdm import tqdm\n",
    "import numpy as np\n",
    "import matplotlib.pyplot as plt\n",
    "from pyts.image import GramianAngularField\n",
    "\n",
    "def drawGAFImage(joint_data, label, row_id, destination_path):\n",
    "    # Reshape the data into a matrix with 3 columns\n",
    "    joint_data = joint_data.reshape(-1, 3).T\n",
    "\n",
    "    # Get the number of timestamps in the data\n",
    "    n_timestamps = joint_data.shape[1]\n",
    "\n",
    "    # Set the image size to a value less than or equal to the number of timestamps\n",
    "    image_size = min(128, n_timestamps)\n",
    "\n",
    "    # Create Gramian Angular Field (GAF)\n",
    "    gaf = GramianAngularField(image_size=image_size, method='difference')\n",
    "    image = gaf.fit_transform(joint_data)\n",
    "    \n",
    "    # Plot the GAF image without labels and color bar\n",
    "    plt.imshow(image[0], cmap='jet', aspect='auto', origin='lower')\n",
    "\n",
    "    # Remove axis labels and ticks\n",
    "    plt.axis('off')\n",
    "\n",
    "    # Save the plot with the specified name\n",
    "    output_name = f\"{label}_row{row_id}_gaf.png\"\n",
    "    output_path = os.path.join(destination_path, output_name)\n",
    "    plt.savefig(output_path)\n",
    "\n",
    "    # Close the plot\n",
    "    plt.close()\n",
    "\n",
    "def generateGAFImages(csv_file_path, destination_path):\n",
    "    # Load the CSV file\n",
    "    df = pd.read_csv(csv_file_path)\n",
    "\n",
    "    # Create the destination folder if it doesn't exist\n",
    "    if not os.path.exists(destination_path):\n",
    "        os.makedirs(destination_path)\n",
    "\n",
    "    # Use tqdm for a progress bar\n",
    "    for index, row in tqdm(df.iterrows(), desc='Generating GAF Images', total=len(df)):\n",
    "        # Extract YXZ coordinates for the current row\n",
    "        joint_data = row.values[:-1]\n",
    "        num_coordinates = len(joint_data)\n",
    "\n",
    "        # Ensure that the number of elements is divisible by 3\n",
    "        if num_coordinates % 3 == 0:\n",
    "            # Extract label from the last column\n",
    "            label = int(row.iloc[-1])\n",
    "\n",
    "            # Generate GAF image for the current row with specified label and row ID\n",
    "            drawGAFImage(joint_data, label, index, destination_path)\n",
    "        else:\n",
    "            # Handle the case where the number of elements is not divisible by 3\n",
    "            # You can choose a strategy that fits your data, like padding or discarding the extra elements\n",
    "            print(f\"Warning: Number of coordinates ({num_coordinates}) is not divisible by 3.\")\n",
    "            print(\"Adjust the reshaping strategy accordingly.\")\n"
   ]
  },
  {
   "cell_type": "code",
   "execution_count": null,
   "id": "5163c17d",
   "metadata": {},
   "outputs": [],
   "source": []
  },
  {
   "cell_type": "code",
   "execution_count": 4,
   "id": "3a572922",
   "metadata": {},
   "outputs": [
    {
     "name": "stderr",
     "output_type": "stream",
     "text": [
      "Generating GAF Images: 100%|██████████| 2000/2000 [01:09<00:00, 28.93it/s]\n"
     ]
    }
   ],
   "source": [
    "# Example usage\n",
    "csv_file_path = 'extractedData.csv'\n",
    "destination_path = 'GAF/Extracted_IMGs/'\n",
    "generateGAFImages(csv_file_path, destination_path)\n"
   ]
  },
  {
   "cell_type": "code",
   "execution_count": null,
   "id": "9b8d1310",
   "metadata": {},
   "outputs": [],
   "source": []
  }
 ],
 "metadata": {
  "kernelspec": {
   "display_name": "Python 3 (ipykernel)",
   "language": "python",
   "name": "python3"
  },
  "language_info": {
   "codemirror_mode": {
    "name": "ipython",
    "version": 3
   },
   "file_extension": ".py",
   "mimetype": "text/x-python",
   "name": "python",
   "nbconvert_exporter": "python",
   "pygments_lexer": "ipython3",
   "version": "3.10.7"
  }
 },
 "nbformat": 4,
 "nbformat_minor": 5
}
